{
 "cells": [
  {
   "cell_type": "code",
   "execution_count": 1,
   "metadata": {},
   "outputs": [],
   "source": [
    "%load_ext autoreload\n",
    "%autoreload 2"
   ]
  },
  {
   "attachments": {},
   "cell_type": "markdown",
   "metadata": {},
   "source": [
    "# VGG"
   ]
  },
  {
   "attachments": {},
   "cell_type": "markdown",
   "metadata": {},
   "source": [
    "[VGG](https://arxiv.org/abs/1409.1556) won the Imagenet competition in 2014 and it introduced some key concepts that are still used today. The main idea is to use a stack of convolutional layers with small filters (3x3) that don't change the spatial resolution of the input feature maps, followed by max pooling layers wich reduce the dimensionality by half. Also, every time the dimensions are reduced, the number of filters in the next layers are doubled. \n",
    "\n",
    "![vgg](pics/vgg.png)"
   ]
  },
  {
   "cell_type": "code",
   "execution_count": 69,
   "metadata": {},
   "outputs": [],
   "source": [
    "import torch\n",
    "import torch.nn as nn\n",
    "from torch.nn import Sequential as S \n",
    "from torch.nn import Conv2d as C\n",
    "from torch.nn import ReLU as R \n",
    "from torch.nn import MaxPool2d as M\n",
    "\n",
    "vgg11config = [\n",
    "    {'repeat': 1, 'filters': 64},\n",
    "    {'repeat': 1, 'filters': 128},\n",
    "    {'repeat': 2, 'filters': 256},\n",
    "    {'repeat': 2, 'filters': 512},\n",
    "    {'repeat': 2, 'filters': 512},\n",
    "]\n",
    "\n",
    "def vgg_block(r, f1, f2):\n",
    "    return S(*[S(C(f1 if i == 0 else f2,f2,3,1,1),R()) for i in range(r)],M(2,2))\n",
    "\n",
    "class VGG(nn.Module):\n",
    "    def __init__(self, conf):\n",
    "        super(VGG, self).__init__()\n",
    "        self.backbone = S(*[vgg_block(r['repeat'], conf[i-1]['filters'] if i > 0 else 3, r['filters']) for i, r in enumerate(conf)])\n",
    "        self.head = nn.Sequential(\n",
    "            nn.AdaptiveAvgPool2d(output_size=(7, 7)), # makes it work with any input size (useful for testing at 256x256)\n",
    "            nn.Flatten(),\n",
    "            nn.Linear(512*7*7, 4096),\n",
    "            nn.ReLU(inplace=True),\n",
    "            nn.Dropout(p=0.5),\n",
    "            nn.Linear(4096, 4096),\n",
    "            nn.ReLU(inplace=True),\n",
    "            nn.Dropout(p=0.5),\n",
    "            nn.Linear(4096, 1000),\n",
    "        )\n",
    "\n",
    "    def forward(self, x):\n",
    "        return self.head(self.backbone(x))"
   ]
  },
  {
   "cell_type": "code",
   "execution_count": 70,
   "metadata": {},
   "outputs": [
    {
     "data": {
      "text/plain": [
       "torch.Size([1, 1000])"
      ]
     },
     "execution_count": 70,
     "metadata": {},
     "output_type": "execute_result"
    }
   ],
   "source": [
    "x = torch.randn(1, 3, 224, 224)\n",
    "model = VGG(vgg11config)\n",
    "model(x).shape"
   ]
  },
  {
   "attachments": {},
   "cell_type": "markdown",
   "metadata": {},
   "source": [
    "These are the hyperparameters used in the original paper:"
   ]
  },
  {
   "cell_type": "code",
   "execution_count": 71,
   "metadata": {},
   "outputs": [
    {
     "data": {
      "text/html": [
       "\n",
       "    <div>\n",
       "      <progress value='4' class='' max='10' style='width:300px; height:20px; vertical-align: middle;'></progress>\n",
       "      40.00% [4/10 03:44&lt;05:36 loss 6.90765 t1err 0.99885 t5err 0.99441 val_loss 6.90767 val_t1err 1.00000 val_t5err 0.99426]\n",
       "    </div>\n",
       "    \n",
       "Epoch 1/10 loss 6.90783 t1err 0.99912 t5err 0.99517 val_loss 6.90823 val_t1err 1.00000 val_t5err 0.99617<p>Epoch 2/10 loss 6.90792 t1err 0.99889 t5err 0.99533 val_loss 6.90818 val_t1err 1.00000 val_t5err 0.99617<p>Epoch 3/10 loss 6.90781 t1err 0.99920 t5err 0.99514 val_loss 6.90769 val_t1err 0.99809 val_t5err 0.99426<p>Epoch 4/10 loss 6.90765 t1err 0.99885 t5err 0.99441 val_loss 6.90767 val_t1err 1.00000 val_t5err 0.99426<p>\n",
       "\n",
       "    <div>\n",
       "      <progress value='63' class='' max='5005' style='width:300px; height:20px; vertical-align: middle;'></progress>\n",
       "      1.26% [63/5005 00:22&lt;29:32 loss 6.90760 t1err 0.99901 t5err 0.99516]\n",
       "    </div>\n",
       "    "
      ],
      "text/plain": [
       "<IPython.core.display.HTML object>"
      ]
     },
     "metadata": {},
     "output_type": "display_data"
    },
    {
     "ename": "KeyboardInterrupt",
     "evalue": "",
     "output_type": "error",
     "traceback": [
      "\u001b[0;31m---------------------------------------------------------------------------\u001b[0m",
      "\u001b[0;31mKeyboardInterrupt\u001b[0m                         Traceback (most recent call last)",
      "Cell \u001b[0;32mIn[71], line 28\u001b[0m\n\u001b[1;32m     25\u001b[0m criterion \u001b[39m=\u001b[39m nn\u001b[39m.\u001b[39mCrossEntropyLoss()\n\u001b[1;32m     26\u001b[0m metrics \u001b[39m=\u001b[39m {\u001b[39m'\u001b[39m\u001b[39mt1err\u001b[39m\u001b[39m'\u001b[39m: error, \u001b[39m'\u001b[39m\u001b[39mt5err\u001b[39m\u001b[39m'\u001b[39m: top5_error}\n\u001b[0;32m---> 28\u001b[0m hist \u001b[39m=\u001b[39m fit(\n\u001b[1;32m     29\u001b[0m     model, \n\u001b[1;32m     30\u001b[0m     dataloaders, \n\u001b[1;32m     31\u001b[0m     optimizer, \n\u001b[1;32m     32\u001b[0m     criterion,\n\u001b[1;32m     33\u001b[0m     metrics, \n\u001b[1;32m     34\u001b[0m     max_epochs\u001b[39m=\u001b[39;49m\u001b[39m10\u001b[39;49m, \u001b[39m# original paper says 74 epochs \u001b[39;49;00m\n\u001b[1;32m     35\u001b[0m     device\u001b[39m=\u001b[39;49m\u001b[39m'\u001b[39;49m\u001b[39mcuda\u001b[39;49m\u001b[39m'\u001b[39;49m, \n\u001b[1;32m     36\u001b[0m     after_val\u001b[39m=\u001b[39;49m\u001b[39mlambda\u001b[39;49;00m val_logs: scheduler\u001b[39m.\u001b[39;49mstep(val_logs[\u001b[39m'\u001b[39;49m\u001b[39mt1err\u001b[39;49m\u001b[39m'\u001b[39;49m][\u001b[39m-\u001b[39;49m\u001b[39m1\u001b[39;49m]), \n\u001b[1;32m     37\u001b[0m     limit_train_batches\u001b[39m=\u001b[39;49m\u001b[39m100\u001b[39;49m, \u001b[39m# comment to train on full dataset\u001b[39;49;00m\n\u001b[1;32m     38\u001b[0m     limit_val_batches\u001b[39m=\u001b[39;49m\u001b[39m100\u001b[39;49m \u001b[39m# comment to validate on full dataset\u001b[39;49;00m\n\u001b[1;32m     39\u001b[0m )\n",
      "File \u001b[0;32m~/Desktop/convnets/models/convnets/train/fit.py:69\u001b[0m, in \u001b[0;36mfit\u001b[0;34m(model, dataloader, optimizer, criterion, metrics, max_epochs, overfit_batches, limit_train_batches, limit_val_batches, after_epoch_log, on_epoch_end, after_val, device, rank, compile, *args, **kwargs)\u001b[0m\n\u001b[1;32m     67\u001b[0m loss\u001b[39m.\u001b[39mbackward()\n\u001b[1;32m     68\u001b[0m optimizer\u001b[39m.\u001b[39mstep()\n\u001b[0;32m---> 69\u001b[0m train_logs[\u001b[39m'\u001b[39m\u001b[39mloss\u001b[39m\u001b[39m'\u001b[39m]\u001b[39m.\u001b[39mappend(loss\u001b[39m.\u001b[39;49mitem())\n\u001b[1;32m     70\u001b[0m \u001b[39mfor\u001b[39;00m metric \u001b[39min\u001b[39;00m metrics\u001b[39m.\u001b[39mkeys():\n\u001b[1;32m     71\u001b[0m     train_logs[metric]\u001b[39m.\u001b[39mappend(metrics[metric](y_hat, y)\u001b[39m.\u001b[39mitem())\n",
      "\u001b[0;31mKeyboardInterrupt\u001b[0m: "
     ]
    }
   ],
   "source": [
    "from convnets.datasets import ImageNet\n",
    "import albumentations as A\n",
    "from convnets.train import seed_everything\n",
    "from torch.utils.data import DataLoader\n",
    "from convnets.train import fit \n",
    "from convnets.metrics import error, top5_error\n",
    "\n",
    "seed_everything()\n",
    "\n",
    "trans = A.Compose([\n",
    "    A.RandomCrop(224, 224),\n",
    "    A.HorizontalFlip(),\n",
    "    A.RGBShift()\n",
    "])\n",
    "\n",
    "path = '/fastdata/imagenet256' \n",
    "dataloaders  =  {\n",
    "    'train': DataLoader(ImageNet(path, 'train', trans), batch_size=256, shuffle=True, num_workers=10, pin_memory=True),\n",
    "    'val': DataLoader(ImageNet(path, 'val'), batch_size=256, shuffle=False, num_workers=10, pin_memory=True),\n",
    "}\n",
    "\n",
    "model = VGG(vgg11config)\n",
    "optimizer = torch.optim.SGD(model.parameters(), lr=1e-2, momentum=0.9, weight_decay=0.0005)\n",
    "scheduler = torch.optim.lr_scheduler.ReduceLROnPlateau(optimizer, patience=1, factor=0.1, verbose=True, threshold_mode='abs', min_lr=1e-5)\n",
    "criterion = nn.CrossEntropyLoss()\n",
    "metrics = {'t1err': error, 't5err': top5_error}\n",
    "\n",
    "hist = fit(\n",
    "    model, \n",
    "    dataloaders, \n",
    "    optimizer, \n",
    "    criterion,\n",
    "    metrics, \n",
    "    max_epochs=10, # original paper says 74 epochs \n",
    "    device='cuda', \n",
    "    after_val=lambda val_logs: scheduler.step(val_logs['t1err'][-1]), \n",
    "    limit_train_batches=100, # comment to train on full dataset\n",
    "    limit_val_batches=100 # comment to validate on full dataset\n",
    ")\n"
   ]
  },
  {
   "cell_type": "code",
   "execution_count": null,
   "metadata": {},
   "outputs": [
    {
     "ename": "KeyError",
     "evalue": "\"['val_t1err', 'val_t5err'] not in index\"",
     "output_type": "error",
     "traceback": [
      "\u001b[0;31m---------------------------------------------------------------------------\u001b[0m",
      "\u001b[0;31mKeyError\u001b[0m                                  Traceback (most recent call last)",
      "Cell \u001b[0;32mIn[64], line 7\u001b[0m\n\u001b[1;32m      5\u001b[0m fig \u001b[39m=\u001b[39m plt\u001b[39m.\u001b[39mfigure(figsize\u001b[39m=\u001b[39m(\u001b[39m7\u001b[39m,\u001b[39m3\u001b[39m))\n\u001b[1;32m      6\u001b[0m ax \u001b[39m=\u001b[39m plt\u001b[39m.\u001b[39msubplot(\u001b[39m1\u001b[39m, \u001b[39m2\u001b[39m, \u001b[39m1\u001b[39m)\n\u001b[0;32m----> 7\u001b[0m df\u001b[39m.\u001b[39;49mplot(x\u001b[39m=\u001b[39;49m\u001b[39m'\u001b[39;49m\u001b[39mepoch\u001b[39;49m\u001b[39m'\u001b[39;49m, y\u001b[39m=\u001b[39;49m[\u001b[39m'\u001b[39;49m\u001b[39mt1err\u001b[39;49m\u001b[39m'\u001b[39;49m, \u001b[39m'\u001b[39;49m\u001b[39mval_t1err\u001b[39;49m\u001b[39m'\u001b[39;49m, \u001b[39m'\u001b[39;49m\u001b[39mt5err\u001b[39;49m\u001b[39m'\u001b[39;49m, \u001b[39m'\u001b[39;49m\u001b[39mval_t5err\u001b[39;49m\u001b[39m'\u001b[39;49m], ax \u001b[39m=\u001b[39;49m ax)\n\u001b[1;32m      8\u001b[0m ax\u001b[39m.\u001b[39mgrid(\u001b[39mTrue\u001b[39;00m)\n\u001b[1;32m      9\u001b[0m ax \u001b[39m=\u001b[39m plt\u001b[39m.\u001b[39msubplot(\u001b[39m1\u001b[39m, \u001b[39m2\u001b[39m, \u001b[39m2\u001b[39m)\n",
      "File \u001b[0;32m~/.local/lib/python3.10/site-packages/pandas/plotting/_core.py:986\u001b[0m, in \u001b[0;36mPlotAccessor.__call__\u001b[0;34m(self, *args, **kwargs)\u001b[0m\n\u001b[1;32m    983\u001b[0m             \u001b[39mpass\u001b[39;00m\n\u001b[1;32m    985\u001b[0m \u001b[39m# don't overwrite\u001b[39;00m\n\u001b[0;32m--> 986\u001b[0m data \u001b[39m=\u001b[39m data[y]\u001b[39m.\u001b[39mcopy()\n\u001b[1;32m    988\u001b[0m \u001b[39mif\u001b[39;00m \u001b[39misinstance\u001b[39m(data, ABCSeries):\n\u001b[1;32m    989\u001b[0m     label_name \u001b[39m=\u001b[39m label_kw \u001b[39mor\u001b[39;00m y\n",
      "File \u001b[0;32m~/.local/lib/python3.10/site-packages/pandas/core/frame.py:3811\u001b[0m, in \u001b[0;36mDataFrame.__getitem__\u001b[0;34m(self, key)\u001b[0m\n\u001b[1;32m   3809\u001b[0m     \u001b[39mif\u001b[39;00m is_iterator(key):\n\u001b[1;32m   3810\u001b[0m         key \u001b[39m=\u001b[39m \u001b[39mlist\u001b[39m(key)\n\u001b[0;32m-> 3811\u001b[0m     indexer \u001b[39m=\u001b[39m \u001b[39mself\u001b[39;49m\u001b[39m.\u001b[39;49mcolumns\u001b[39m.\u001b[39;49m_get_indexer_strict(key, \u001b[39m\"\u001b[39;49m\u001b[39mcolumns\u001b[39;49m\u001b[39m\"\u001b[39;49m)[\u001b[39m1\u001b[39m]\n\u001b[1;32m   3813\u001b[0m \u001b[39m# take() does not accept boolean indexers\u001b[39;00m\n\u001b[1;32m   3814\u001b[0m \u001b[39mif\u001b[39;00m \u001b[39mgetattr\u001b[39m(indexer, \u001b[39m\"\u001b[39m\u001b[39mdtype\u001b[39m\u001b[39m\"\u001b[39m, \u001b[39mNone\u001b[39;00m) \u001b[39m==\u001b[39m \u001b[39mbool\u001b[39m:\n",
      "File \u001b[0;32m~/.local/lib/python3.10/site-packages/pandas/core/indexes/base.py:6113\u001b[0m, in \u001b[0;36mIndex._get_indexer_strict\u001b[0;34m(self, key, axis_name)\u001b[0m\n\u001b[1;32m   6110\u001b[0m \u001b[39melse\u001b[39;00m:\n\u001b[1;32m   6111\u001b[0m     keyarr, indexer, new_indexer \u001b[39m=\u001b[39m \u001b[39mself\u001b[39m\u001b[39m.\u001b[39m_reindex_non_unique(keyarr)\n\u001b[0;32m-> 6113\u001b[0m \u001b[39mself\u001b[39;49m\u001b[39m.\u001b[39;49m_raise_if_missing(keyarr, indexer, axis_name)\n\u001b[1;32m   6115\u001b[0m keyarr \u001b[39m=\u001b[39m \u001b[39mself\u001b[39m\u001b[39m.\u001b[39mtake(indexer)\n\u001b[1;32m   6116\u001b[0m \u001b[39mif\u001b[39;00m \u001b[39misinstance\u001b[39m(key, Index):\n\u001b[1;32m   6117\u001b[0m     \u001b[39m# GH 42790 - Preserve name from an Index\u001b[39;00m\n",
      "File \u001b[0;32m~/.local/lib/python3.10/site-packages/pandas/core/indexes/base.py:6176\u001b[0m, in \u001b[0;36mIndex._raise_if_missing\u001b[0;34m(self, key, indexer, axis_name)\u001b[0m\n\u001b[1;32m   6173\u001b[0m     \u001b[39mraise\u001b[39;00m \u001b[39mKeyError\u001b[39;00m(\u001b[39mf\u001b[39m\u001b[39m\"\u001b[39m\u001b[39mNone of [\u001b[39m\u001b[39m{\u001b[39;00mkey\u001b[39m}\u001b[39;00m\u001b[39m] are in the [\u001b[39m\u001b[39m{\u001b[39;00maxis_name\u001b[39m}\u001b[39;00m\u001b[39m]\u001b[39m\u001b[39m\"\u001b[39m)\n\u001b[1;32m   6175\u001b[0m not_found \u001b[39m=\u001b[39m \u001b[39mlist\u001b[39m(ensure_index(key)[missing_mask\u001b[39m.\u001b[39mnonzero()[\u001b[39m0\u001b[39m]]\u001b[39m.\u001b[39munique())\n\u001b[0;32m-> 6176\u001b[0m \u001b[39mraise\u001b[39;00m \u001b[39mKeyError\u001b[39;00m(\u001b[39mf\u001b[39m\u001b[39m\"\u001b[39m\u001b[39m{\u001b[39;00mnot_found\u001b[39m}\u001b[39;00m\u001b[39m not in index\u001b[39m\u001b[39m\"\u001b[39m)\n",
      "\u001b[0;31mKeyError\u001b[0m: \"['val_t1err', 'val_t5err'] not in index\""
     ]
    },
    {
     "data": {
      "image/png": "[encoded data removed]",
      "text/plain": [
       "<Figure size 700x300 with 1 Axes>"
      ]
     },
     "metadata": {},
     "output_type": "display_data"
    }
   ],
   "source": [
    "import pandas as pd\n",
    "import matplotlib.pyplot as plt\n",
    "\n",
    "df = pd.DataFrame(hist)\n",
    "fig = plt.figure(figsize=(7,3))\n",
    "ax = plt.subplot(1, 2, 1)\n",
    "df.plot(x='epoch', y=['t1err', 'val_t1err', 't5err', 'val_t5err'], ax = ax)\n",
    "ax.grid(True)\n",
    "ax = plt.subplot(1, 2, 2)\n",
    "df.plot(x='epoch', y=['loss', 'val_loss'], ax = ax)\n",
    "ax.grid(True)\n",
    "plt.tight_layout()\n",
    "plt.show()\n"
   ]
  },
  {
   "attachments": {},
   "cell_type": "markdown",
   "metadata": {},
   "source": [
    "Originally, it took about 2-3 weekas on four NVIDIA Titan Black GPUs to train the model. "
   ]
  }
 ],
 "metadata": {
  "kernelspec": {
   "display_name": "Python 3",
   "language": "python",
   "name": "python3"
  },
  "language_info": {
   "codemirror_mode": {
    "name": "ipython",
    "version": 3
   },
   "file_extension": ".py",
   "mimetype": "text/x-python",
   "name": "python",
   "nbconvert_exporter": "python",
   "pygments_lexer": "ipython3",
   "version": "3.10.6"
  },
  "orig_nbformat": 4,
  "vscode": {
   "interpreter": {
    "hash": "916dbcbb3f70747c44a77c7bcd40155683ae19c65e1c03b4aa3499c5328201f1"
   }
  }
 },
 "nbformat": 4,
 "nbformat_minor": 2
}
