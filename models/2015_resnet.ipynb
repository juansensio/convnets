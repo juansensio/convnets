{
 "cells": [
  {
   "cell_type": "code",
   "execution_count": 1,
   "metadata": {},
   "outputs": [],
   "source": [
    "%load_ext autoreload\n",
    "%autoreload 2"
   ]
  },
  {
   "attachments": {},
   "cell_type": "markdown",
   "metadata": {},
   "source": [
    "# ResNet"
   ]
  },
  {
   "attachments": {},
   "cell_type": "markdown",
   "metadata": {},
   "source": [
    "[ResNet](https://arxiv.org/abs/1512.03385) won the Imagenet competition in 2015 and it introduced some key concepts that are still used today. The main contribution is to use a series of residual blocks instead of a plain stack of convolutional layers to help with the training process, and popularized the use of batch norm. \n",
    "\n",
    "![resnet](pics/resnet.png)"
   ]
  },
  {
   "cell_type": "code",
   "execution_count": 2,
   "metadata": {},
   "outputs": [],
   "source": [
    "import torch\n",
    "import torch.nn as nn\n",
    "from torch.nn import Sequential as S \n",
    "from torch.nn import Conv2d as C\n",
    "from torch.nn import ReLU as R \n",
    "from torch.nn import MaxPool2d as M\n",
    "from torch.nn import BatchNorm2d as BN\n",
    "from torch.nn import Identity as I\n",
    "from torch.nn import AdaptiveAvgPool2d as Ap\n",
    "from torch.nn import Flatten as F\n",
    "from torch.nn import Linear as L\n",
    "\n",
    "\n",
    "resenet18config = {\n",
    "    'l': [\n",
    "\t\t{'r': 2, 'f': 64},\n",
    "\t\t{'r': 2, 'f': 128},\n",
    "\t\t{'r': 2, 'f': 256},\n",
    "\t\t{'r': 2, 'f': 512}\n",
    "    ], \n",
    "    'b': False\n",
    "}\n",
    "\n",
    "\n",
    "class ResBlock(nn.Module):\n",
    "    def __init__(self, f1, f2, l0, b0):\n",
    "        # f1 -> input filters, f2 -> output filters, l0 -> is first layer?, b0 -> is first block in layer?\n",
    "        super(ResBlock, self).__init__()\n",
    "        cb = lambda f1,f2,s=1: S(C(f1,f2,3,s,1),R(),BN(f2)) \n",
    "        self.block = S(cb(f1,f2,2 if b0 and not l0 else 1),cb(f2,f2)) # stride 2 to reduce dims in first block of each layer\n",
    "        self.shortcut = C(f1,f2,1,2,0) if b0 and not l0 else I() # apply 1x1 conv to input if needed to match dimensions in residual connection\n",
    "    def forward(self, x):\n",
    "        return self.shortcut(x) + self.block(x)\n",
    "    \n",
    "\n",
    "class ResBottlBlock(nn.Module):\n",
    "    def __init__(self, f1, f2, l0, b0):\n",
    "        super(ResBottlBlock, self).__init__()\n",
    "        cb = lambda f1,f2,k=3,s=1: S(C(f1,f2,k,s,1 if k == 3 else 0),R(),BN(f2)) \n",
    "        self.block = S(cb(f1*4 if not b0 else f1,f2,1,2 if b0 and not l0 else 1),cb(f2,f2),cb(f2,f2*4,1))\n",
    "        self.shortcut = C(f1,f2*4,1,2 if b0 and not l0 else 1,0) if b0 else I()\n",
    "    def forward(self, x):\n",
    "        return self.shortcut(x) + self.block(x)\n",
    "\n",
    "class ResNet(nn.Module):\n",
    "    def __init__(self, conf):\n",
    "        super(ResNet, self).__init__()\n",
    "        self.backbone = S(\n",
    "            C(3, conf['l'][0]['f'], 7, 2, 3),BN(conf['l'][0]['f']),R(),M(3, 2, 1), # first layer\n",
    "            *[S(*[\n",
    "                ResBottlBlock(conf['l'][i-1]['f']*4 if i > 0 and j == 0 else l['f'], l['f'], i == 0, j == 0) if conf['b'] else ResBlock(conf['l'][i-1]['f'] if i > 0 and j == 0 else l['f'], l['f'], i == 0, j == 0)\n",
    "                for j in range(l['r'])]) \n",
    "            for i, l in enumerate(conf['l'])]\n",
    "        )\n",
    "        self.head = S(Ap((1, 1)),F(),L(conf['l'][-1]['f']*4 if conf['b'] else conf['l'][-1]['f'], 1000))\n",
    "    def forward(self, x):\n",
    "        return self.head(self.backbone(x))\n",
    "    "
   ]
  },
  {
   "cell_type": "code",
   "execution_count": 3,
   "metadata": {},
   "outputs": [
    {
     "data": {
      "text/plain": [
       "torch.Size([1, 1000])"
      ]
     },
     "execution_count": 3,
     "metadata": {},
     "output_type": "execute_result"
    }
   ],
   "source": [
    "x = torch.randn(1, 3, 256, 256)\n",
    "model = ResNet(resenet18config)\n",
    "model(x).shape"
   ]
  },
  {
   "attachments": {},
   "cell_type": "markdown",
   "metadata": {},
   "source": [
    "These are the hyperparameters used in the original paper:"
   ]
  },
  {
   "cell_type": "code",
   "execution_count": 4,
   "metadata": {},
   "outputs": [
    {
     "data": {
      "text/html": [
       "Epoch 1/10 loss 6.90195 t1err 0.99544 t5err 0.98269 val_loss 6.77238 val_t1err 0.99583 val_t5err 0.98024<p>Epoch 2/10 loss 6.57290 t1err 0.99058 t5err 0.96274 val_loss 6.58512 val_t1err 0.99265 val_t5err 0.96680<p>Epoch 3/10 loss 6.35954 t1err 0.98713 t5err 0.95048 val_loss 6.30926 val_t1err 0.98679 val_t5err 0.94570<p>Epoch 4/10 loss 6.19167 t1err 0.98032 t5err 0.93329 val_loss 6.45161 val_t1err 0.98702 val_t5err 0.95148<p>Epoch 5/10 loss 6.05051 t1err 0.97603 t5err 0.91628 val_loss 6.05163 val_t1err 0.97718 val_t5err 0.91743<p>Epoch 6/10 loss 5.94265 t1err 0.97109 t5err 0.90502 val_loss 6.11009 val_t1err 0.97940 val_t5err 0.92034<p>Epoch 7/10 loss 5.86126 t1err 0.96649 t5err 0.89514 val_loss 5.76146 val_t1err 0.96572 val_t5err 0.89170<p>Epoch 8/10 loss 5.73537 t1err 0.96140 t5err 0.87868 val_loss 5.65520 val_t1err 0.95764 val_t5err 0.86883<p>Epoch 9/10 loss 5.54418 t1err 0.94363 t5err 0.84367 val_loss 5.39147 val_t1err 0.94443 val_t5err 0.82587<p>Epoch 10/10 loss 5.43623 t1err 0.93467 t5err 0.82387 val_loss 5.29115 val_t1err 0.93654 val_t5err 0.81139"
      ],
      "text/plain": [
       "<IPython.core.display.HTML object>"
      ]
     },
     "metadata": {},
     "output_type": "display_data"
    }
   ],
   "source": [
    "from convnets.datasets import ImageNet\n",
    "import albumentations as A\n",
    "from convnets.train import seed_everything\n",
    "from torch.utils.data import DataLoader\n",
    "from convnets.train import fit \n",
    "from convnets.metrics import error, top5_error\n",
    "from convnets.models import ResNet, ResNetConfig\n",
    "\n",
    "seed_everything()\n",
    "\n",
    "train_trans = A.Compose([\n",
    "    A.SmallestMaxSize(list(range(256, 481))), # sacale augmentation\n",
    "    A.RandomCrop(224, 224),\n",
    "    A.HorizontalFlip(),\n",
    "    A.RGBShift()\n",
    "])\n",
    "\n",
    "val_trans = A.Compose([\n",
    "    A.SmallestMaxSize(224),\n",
    "    A.CenterCrop(224, 224)\n",
    "])\n",
    "\n",
    "path = '/fastdata/imagenet' \n",
    "dataloaders  =  {\n",
    "    'train': DataLoader(ImageNet(path, 'train', train_trans), batch_size=256, shuffle=True, num_workers=10, pin_memory=True),\n",
    "    'val': DataLoader(ImageNet(path, 'val', val_trans), batch_size=256, shuffle=False, num_workers=10, pin_memory=True),\n",
    "}\n",
    "\n",
    "model = ResNet(ResNetConfig.r18)\n",
    "optimizer = torch.optim.SGD(model.parameters(), lr=0.1, momentum=0.9, weight_decay=0.0001)\n",
    "scheduler = torch.optim.lr_scheduler.ReduceLROnPlateau(optimizer, patience=1, factor=0.1, verbose=True, threshold_mode='abs', min_lr=1e-4)\n",
    "criterion = nn.CrossEntropyLoss()\n",
    "metrics = {'t1err': error, 't5err': top5_error}\n",
    "\n",
    "hist = fit(\n",
    "    model, \n",
    "    dataloaders, \n",
    "    optimizer, \n",
    "    criterion,\n",
    "    metrics, \n",
    "    max_epochs=10, # original paper says 120 epochs approx. (60 x 10^4 its)\n",
    "    device='cuda', \n",
    "    after_val=lambda val_logs: scheduler.step(val_logs['t1err'][-1]), \n",
    "    limit_train_batches=100, # comment to train on full dataset\n",
    "    limit_val_batches=100 # comment to validate on full dataset\n",
    ")\n"
   ]
  },
  {
   "cell_type": "code",
   "execution_count": 5,
   "metadata": {},
   "outputs": [
    {
     "data": {
      "image/png": "[encoded data removed]",
      "text/plain": [
       "<Figure size 700x300 with 2 Axes>"
      ]
     },
     "metadata": {},
     "output_type": "display_data"
    }
   ],
   "source": [
    "import pandas as pd\n",
    "import matplotlib.pyplot as plt\n",
    "\n",
    "df = pd.DataFrame(hist)\n",
    "fig = plt.figure(figsize=(7,3))\n",
    "ax = plt.subplot(1, 2, 1)\n",
    "df.plot(x='epoch', y=['t1err', 'val_t1err', 't5err', 'val_t5err'], ax = ax)\n",
    "ax.grid(True)\n",
    "ax = plt.subplot(1, 2, 2)\n",
    "df.plot(x='epoch', y=['loss', 'val_loss'], ax = ax)\n",
    "ax.grid(True)\n",
    "plt.tight_layout()\n",
    "plt.show()\n"
   ]
  },
  {
   "attachments": {},
   "cell_type": "markdown",
   "metadata": {},
   "source": [
    "For testing, the authors used tta with 5 crops + hflips at different scales: 224, 256, 384, 480, 640"
   ]
  },
  {
   "cell_type": "code",
   "execution_count": 8,
   "metadata": {},
   "outputs": [
    {
     "name": "stdout",
     "output_type": "stream",
     "text": [
      "evaluating at scale 224...\n"
     ]
    },
    {
     "name": "stderr",
     "output_type": "stream",
     "text": [
      "  2%|▏         | 101/6250 [00:02<02:39, 38.59it/s]\n"
     ]
    },
    {
     "name": "stdout",
     "output_type": "stream",
     "text": [
      "evaluating at scale 256...\n"
     ]
    },
    {
     "name": "stderr",
     "output_type": "stream",
     "text": [
      "  2%|▏         | 101/6250 [00:03<03:04, 33.24it/s]\n"
     ]
    },
    {
     "name": "stdout",
     "output_type": "stream",
     "text": [
      "evaluating at scale 384...\n"
     ]
    },
    {
     "name": "stderr",
     "output_type": "stream",
     "text": [
      "  2%|▏         | 101/6250 [00:06<06:23, 16.02it/s]\n"
     ]
    },
    {
     "name": "stdout",
     "output_type": "stream",
     "text": [
      "evaluating at scale 480...\n"
     ]
    },
    {
     "name": "stderr",
     "output_type": "stream",
     "text": [
      "  2%|▏         | 101/6250 [00:09<09:40, 10.59it/s]\n"
     ]
    },
    {
     "name": "stdout",
     "output_type": "stream",
     "text": [
      "evaluating at scale 640...\n"
     ]
    },
    {
     "name": "stderr",
     "output_type": "stream",
     "text": [
      "  2%|▏         | 101/6250 [01:04<1:05:31,  1.56it/s]\n"
     ]
    }
   ],
   "source": [
    "from tqdm import tqdm\n",
    "\n",
    "# tta evaluation\n",
    "model.cuda()\n",
    "model.eval()\n",
    "metrics = {}\n",
    "limit_val_batches = 100 \n",
    "for s in [224, 256, 384, 480, 640]:\n",
    "\tprint(f'evaluating at scale {s}...')\n",
    "\ttrans = A.Compose([\n",
    "\t\tA.SmallestMaxSize(s),\n",
    "\t\tA.CenterCrop(s, s)\n",
    "\t])\n",
    "\tdataloader = DataLoader(ImageNet(path, 'val', trans), batch_size=8, shuffle=False, num_workers=10, pin_memory=True)\n",
    "\tmetrics[s] = {'t1err': [], 't5err': []}\n",
    "\twith torch.no_grad():\n",
    "\t\tfor ix, batch in enumerate(tqdm(dataloader)):\n",
    "\t\t\tx, y = batch\n",
    "\t\t\tx, y = x.cuda(), y.cuda()\n",
    "\t\t\ty_hat = model.tta(x, s)\n",
    "\t\t\terr = error(y_hat, y)\n",
    "\t\t\tmetrics[s]['t1err'].append(err.item())\n",
    "\t\t\ttop5err = top5_error(y_hat, y)\n",
    "\t\t\tmetrics[s]['t5err'].append(top5err.item())\n",
    "\t\t\tif ix > limit_val_batches:\n",
    "\t\t\t\tbreak"
   ]
  },
  {
   "cell_type": "code",
   "execution_count": 9,
   "metadata": {},
   "outputs": [
    {
     "data": {
      "text/html": [
       "<div>\n",
       "<style scoped>\n",
       "    .dataframe tbody tr th:only-of-type {\n",
       "        vertical-align: middle;\n",
       "    }\n",
       "\n",
       "    .dataframe tbody tr th {\n",
       "        vertical-align: top;\n",
       "    }\n",
       "\n",
       "    .dataframe thead th {\n",
       "        text-align: right;\n",
       "    }\n",
       "</style>\n",
       "<table border=\"1\" class=\"dataframe\">\n",
       "  <thead>\n",
       "    <tr style=\"text-align: right;\">\n",
       "      <th></th>\n",
       "      <th>224</th>\n",
       "      <th>256</th>\n",
       "      <th>384</th>\n",
       "      <th>480</th>\n",
       "      <th>640</th>\n",
       "    </tr>\n",
       "  </thead>\n",
       "  <tbody>\n",
       "    <tr>\n",
       "      <th>t1err</th>\n",
       "      <td>0.943627</td>\n",
       "      <td>0.932598</td>\n",
       "      <td>0.933824</td>\n",
       "      <td>0.943627</td>\n",
       "      <td>0.955882</td>\n",
       "    </tr>\n",
       "    <tr>\n",
       "      <th>t5err</th>\n",
       "      <td>0.753676</td>\n",
       "      <td>0.743873</td>\n",
       "      <td>0.763480</td>\n",
       "      <td>0.770833</td>\n",
       "      <td>0.816176</td>\n",
       "    </tr>\n",
       "  </tbody>\n",
       "</table>\n",
       "</div>"
      ],
      "text/plain": [
       "            224       256       384       480       640\n",
       "t1err  0.943627  0.932598  0.933824  0.943627  0.955882\n",
       "t5err  0.753676  0.743873  0.763480  0.770833  0.816176"
      ]
     },
     "execution_count": 9,
     "metadata": {},
     "output_type": "execute_result"
    }
   ],
   "source": [
    "import numpy as np\n",
    "\n",
    "_metrics = pd.DataFrame({s: {n: np.mean(v) for n, v in m.items()} for s, m in metrics.items()})\n",
    "_metrics"
   ]
  },
  {
   "cell_type": "code",
   "execution_count": 10,
   "metadata": {},
   "outputs": [
    {
     "data": {
      "text/plain": [
       "t1err    0.941912\n",
       "t5err    0.769608\n",
       "dtype: float64"
      ]
     },
     "execution_count": 10,
     "metadata": {},
     "output_type": "execute_result"
    }
   ],
   "source": [
    "_metrics.mean(1)"
   ]
  },
  {
   "attachments": {},
   "cell_type": "markdown",
   "metadata": {},
   "source": [
    "The final submission that won ImageNet was an ensamble of 5 different ResNets."
   ]
  }
 ],
 "metadata": {
  "kernelspec": {
   "display_name": "Python 3",
   "language": "python",
   "name": "python3"
  },
  "language_info": {
   "codemirror_mode": {
    "name": "ipython",
    "version": 3
   },
   "file_extension": ".py",
   "mimetype": "text/x-python",
   "name": "python",
   "nbconvert_exporter": "python",
   "pygments_lexer": "ipython3",
   "version": "3.10.6"
  },
  "orig_nbformat": 4,
  "vscode": {
   "interpreter": {
    "hash": "916dbcbb3f70747c44a77c7bcd40155683ae19c65e1c03b4aa3499c5328201f1"
   }
  }
 },
 "nbformat": 4,
 "nbformat_minor": 2
}
