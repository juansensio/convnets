{
 "cells": [
  {
   "cell_type": "code",
   "execution_count": 1,
   "metadata": {},
   "outputs": [],
   "source": [
    "%load_ext autoreload\n",
    "%autoreload 2"
   ]
  },
  {
   "cell_type": "markdown",
   "metadata": {},
   "source": [
    "# ResNet"
   ]
  },
  {
   "cell_type": "markdown",
   "metadata": {},
   "source": [
    "[ResNet](https://arxiv.org/abs/1512.03385) won the Imagenet competition in 2015 and it introduced some key concepts that are still used today. The main contribution is to use a series of residual blocks instead of a plain stack of convolutional layers to help with the training process, and popularized the use of batch norm. \n",
    "\n",
    "![resnet](pics/resnet.png)"
   ]
  },
  {
   "cell_type": "code",
   "execution_count": 2,
   "metadata": {},
   "outputs": [],
   "source": [
    "import torch\n",
    "import torch.nn as nn\n",
    "from torch.nn import Sequential as S \n",
    "from torch.nn import Conv2d as C\n",
    "from torch.nn import ReLU as R \n",
    "from torch.nn import MaxPool2d as M\n",
    "from torch.nn import BatchNorm2d as BN\n",
    "from torch.nn import Identity as I\n",
    "from torch.nn import AdaptiveAvgPool2d as Ap\n",
    "from torch.nn import Flatten as F\n",
    "from torch.nn import Linear as L\n",
    "\n",
    "\n",
    "resenet18config = {\n",
    "    'l': [\n",
    "\t\t{'r': 2, 'f': 64},\n",
    "\t\t{'r': 2, 'f': 128},\n",
    "\t\t{'r': 2, 'f': 256},\n",
    "\t\t{'r': 2, 'f': 512}\n",
    "    ], \n",
    "    'b': False\n",
    "}\n",
    "\n",
    "\n",
    "class ResBlock(nn.Module):\n",
    "    def __init__(self, f1, f2, l0, b0):\n",
    "        # f1 -> input filters, f2 -> output filters, l0 -> is first layer?, b0 -> is first block in layer?\n",
    "        super(ResBlock, self).__init__()\n",
    "        cb = lambda f1,f2,s=1: S(C(f1,f2,3,s,1),R(),BN(f2)) \n",
    "        self.block = S(cb(f1,f2,2 if b0 and not l0 else 1),cb(f2,f2)) # stride 2 to reduce dims in first block of each layer\n",
    "        self.shortcut = C(f1,f2,1,2,0) if b0 and not l0 else I() # apply 1x1 conv to input if needed to match dimensions in residual connection\n",
    "    def forward(self, x):\n",
    "        return self.shortcut(x) + self.block(x)\n",
    "    \n",
    "\n",
    "class ResBottlBlock(nn.Module):\n",
    "    def __init__(self, f1, f2, l0, b0):\n",
    "        super(ResBottlBlock, self).__init__()\n",
    "        cb = lambda f1,f2,k=3,s=1: S(C(f1,f2,k,s,1 if k == 3 else 0),R(),BN(f2)) \n",
    "        self.block = S(cb(f1*4 if not b0 else f1,f2,1,2 if b0 and not l0 else 1),cb(f2,f2),cb(f2,f2*4,1))\n",
    "        self.shortcut = C(f1,f2*4,1,2 if b0 and not l0 else 1,0) if b0 else I()\n",
    "    def forward(self, x):\n",
    "        return self.shortcut(x) + self.block(x)\n",
    "\n",
    "class ResNet(nn.Module):\n",
    "    def __init__(self, conf):\n",
    "        super(ResNet, self).__init__()\n",
    "        self.backbone = S(\n",
    "            C(3, conf['l'][0]['f'], 7, 2, 3),BN(conf['l'][0]['f']),R(),M(3, 2, 1), # first layer\n",
    "            *[S(*[\n",
    "                ResBottlBlock(conf['l'][i-1]['f']*4 if i > 0 and j == 0 else l['f'], l['f'], i == 0, j == 0) if conf['b'] else ResBlock(conf['l'][i-1]['f'] if i > 0 and j == 0 else l['f'], l['f'], i == 0, j == 0)\n",
    "                for j in range(l['r'])]) \n",
    "            for i, l in enumerate(conf['l'])]\n",
    "        )\n",
    "        self.head = S(Ap((1, 1)),F(),L(conf['l'][-1]['f']*4 if conf['b'] else conf['l'][-1]['f'], 1000))\n",
    "    def forward(self, x):\n",
    "        return self.head(self.backbone(x))\n",
    "    "
   ]
  },
  {
   "cell_type": "code",
   "execution_count": 3,
   "metadata": {},
   "outputs": [
    {
     "data": {
      "text/plain": [
       "torch.Size([1, 1000])"
      ]
     },
     "execution_count": 3,
     "metadata": {},
     "output_type": "execute_result"
    }
   ],
   "source": [
    "x = torch.randn(1, 3, 256, 256)\n",
    "model = ResNet(resenet18config)\n",
    "model(x).shape"
   ]
  },
  {
   "cell_type": "markdown",
   "metadata": {},
   "source": [
    "These are the hyperparameters used in the original paper:"
   ]
  },
  {
   "cell_type": "code",
   "execution_count": 5,
   "metadata": {},
   "outputs": [
    {
     "name": "stderr",
     "output_type": "stream",
     "text": [
      "/usr/lib/python3/dist-packages/pkg_resources/__init__.py:116: PkgResourcesDeprecationWarning: 0.1.43ubuntu1 is an invalid version and will not be supported in a future release\n",
      "  warnings.warn(\n",
      "/usr/lib/python3/dist-packages/pkg_resources/__init__.py:116: PkgResourcesDeprecationWarning: 1.1build1 is an invalid version and will not be supported in a future release\n",
      "  warnings.warn(\n",
      "Using bfloat16 Automatic Mixed Precision (AMP)\n",
      "You are using a CUDA device ('NVIDIA GeForce RTX 3090') that has Tensor Cores. To properly utilize them, you should set `torch.set_float32_matmul_precision('medium' | 'high')` which will trade-off precision for performance. For more details, read https://pytorch.org/docs/stable/generated/torch.set_float32_matmul_precision.html#torch.set_float32_matmul_precision\n",
      "You are using a CUDA device ('NVIDIA GeForce RTX 3090') that has Tensor Cores. To properly utilize them, you should set `torch.set_float32_matmul_precision('medium' | 'high')` which will trade-off precision for performance. For more details, read https://pytorch.org/docs/stable/generated/torch.set_float32_matmul_precision.html#torch.set_float32_matmul_precision\n"
     ]
    },
    {
     "name": "stdout",
     "output_type": "stream",
     "text": [
      "Number of trainable parameters: 11692520\n",
      "Compiling model ...\n"
     ]
    },
    {
     "data": {
      "text/html": [
       "\n",
       "<style>\n",
       "    /* Turns off some styling */\n",
       "    progress {\n",
       "        /* gets rid of default border in Firefox and Opera. */\n",
       "        border: none;\n",
       "        /* Needs to be in here for Safari polyfill so background images work as expected. */\n",
       "        background-size: auto;\n",
       "    }\n",
       "    progress:not([value]), progress:not([value])::-webkit-progress-bar {\n",
       "        background: repeating-linear-gradient(45deg, #7e7e7e, #7e7e7e 10px, #5c5c5c 10px, #5c5c5c 20px);\n",
       "    }\n",
       "    .progress-bar-interrupted, .progress-bar-interrupted::-webkit-progress-bar {\n",
       "        background: #F44336;\n",
       "    }\n",
       "</style>\n"
      ],
      "text/plain": [
       "<IPython.core.display.HTML object>"
      ]
     },
     "metadata": {},
     "output_type": "display_data"
    },
    {
     "data": {
      "text/html": [
       "Epoch 1/10 loss 6.81689 t1err 0.99460 t5err 0.97963 val_loss 6.86270 val_t1err 0.99644 val_t5err 0.98078<p>Epoch 2/10 loss 6.48668 t1err 0.98951 t5err 0.95987 val_loss 6.64735 val_t1err 0.99452 val_t5err 0.97059<p>Epoch 3/10 loss 6.29257 t1err 0.98545 t5err 0.94589 val_loss 6.75704 val_t1err 0.99303 val_t5err 0.97223<p>Epoch 4/10 loss 6.07296 t1err 0.97438 t5err 0.91759 val_loss 5.96182 val_t1err 0.97878 val_t5err 0.92180<p>Epoch 5/10 loss 5.94685 t1err 0.96929 t5err 0.90173 val_loss 5.93735 val_t1err 0.97610 val_t5err 0.91311<p>Epoch 6/10 loss 5.90093 t1err 0.96871 t5err 0.89641 val_loss 5.91505 val_t1err 0.97204 val_t5err 0.90334<p>Epoch 7/10 loss 5.83393 t1err 0.96469 t5err 0.88768 val_loss 5.82519 val_t1err 0.96936 val_t5err 0.89411<p>Epoch 8/10 loss 5.79519 t1err 0.96136 t5err 0.88281 val_loss 5.80137 val_t1err 0.96752 val_t5err 0.89043<p>Epoch 9/10 loss 5.80725 t1err 0.96094 t5err 0.88427 val_loss 5.78754 val_t1err 0.96772 val_t5err 0.88925<p>Epoch 10/10 loss 5.80320 t1err 0.95960 t5err 0.87856 val_loss 5.79815 val_t1err 0.96729 val_t5err 0.88817"
      ],
      "text/plain": [
       "<IPython.core.display.HTML object>"
      ]
     },
     "metadata": {},
     "output_type": "display_data"
    },
    {
     "name": "stdout",
     "output_type": "stream",
     "text": [
      "Epoch 00003: reducing learning rate of group 0 to 1.0000e-02.\n",
      "Epoch 00006: reducing learning rate of group 0 to 1.0000e-03.\n",
      "Epoch 00008: reducing learning rate of group 0 to 1.0000e-04.\n"
     ]
    }
   ],
   "source": [
    "from convnets.datasets import ImageNet\n",
    "import albumentations as A\n",
    "from convnets.train import seed_everything\n",
    "from torch.utils.data import DataLoader\n",
    "from convnets.train import fit \n",
    "from convnets.metrics import error, top5_error\n",
    "from convnets.models import ResNet, ResNetConfig\n",
    "import lightning \n",
    "\n",
    "seed_everything()\n",
    "\n",
    "train_trans = A.Compose([\n",
    "    A.SmallestMaxSize(list(range(256, 481))), # sacale augmentation\n",
    "    A.RandomCrop(224, 224),\n",
    "    A.HorizontalFlip(),\n",
    "    A.RGBShift()\n",
    "])\n",
    "\n",
    "val_trans = A.Compose([\n",
    "    A.SmallestMaxSize(224),\n",
    "    A.CenterCrop(224, 224)\n",
    "])\n",
    "\n",
    "path = '/fastdata/imagenet' \n",
    "dataloaders  =  {\n",
    "    'train': DataLoader(ImageNet(path, 'train', train_trans), batch_size=256, shuffle=True, num_workers=10, pin_memory=True),\n",
    "    'val': DataLoader(ImageNet(path, 'val', val_trans), batch_size=256, shuffle=False, num_workers=10, pin_memory=True),\n",
    "}\n",
    "\n",
    "model = ResNet(ResNetConfig.r18)\n",
    "optimizer = torch.optim.SGD(model.parameters(), lr=0.1, momentum=0.9, weight_decay=0.0001)\n",
    "scheduler = torch.optim.lr_scheduler.ReduceLROnPlateau(optimizer, patience=1, factor=0.1, verbose=True, threshold_mode='abs', min_lr=1e-4)\n",
    "criterion = nn.CrossEntropyLoss()\n",
    "metrics = {'t1err': error, 't5err': top5_error}\n",
    "\n",
    "class Callback:\n",
    "    def after_val(self, val_logs):\n",
    "        scheduler.step(val_logs['t1err'][-1])\n",
    "\n",
    "fabric = lightning.Fabric(accelerator=\"gpu\", devices=1, precision='bf16-mixed', callbacks=[Callback()])\n",
    "hist = fit(\n",
    "    model, \n",
    "    dataloaders, \n",
    "    optimizer, \n",
    "    criterion,\n",
    "    metrics, \n",
    "    max_epochs=10, # original paper says 120 epochs approx. (60 x 10^4 its)\n",
    "    fabric=fabric,\n",
    "    limit_train_batches=100, # comment to train on full dataset\n",
    "    limit_val_batches=100 # comment to validate on full dataset\n",
    ")\n"
   ]
  },
  {
   "cell_type": "code",
   "execution_count": 6,
   "metadata": {},
   "outputs": [
    {
     "data": {
      "image/png": "[encoded data removed]",
      "text/plain": [
       "<Figure size 700x300 with 2 Axes>"
      ]
     },
     "metadata": {},
     "output_type": "display_data"
    }
   ],
   "source": [
    "import pandas as pd\n",
    "import matplotlib.pyplot as plt\n",
    "\n",
    "df = pd.DataFrame(hist)\n",
    "fig = plt.figure(figsize=(7,3))\n",
    "ax = plt.subplot(1, 2, 1)\n",
    "df.plot(x='epoch', y=['t1err', 'val_t1err', 't5err', 'val_t5err'], ax = ax)\n",
    "ax.grid(True)\n",
    "ax = plt.subplot(1, 2, 2)\n",
    "df.plot(x='epoch', y=['loss', 'val_loss'], ax = ax)\n",
    "ax.grid(True)\n",
    "plt.tight_layout()\n",
    "plt.show()\n"
   ]
  },
  {
   "cell_type": "markdown",
   "metadata": {},
   "source": [
    "For testing, the authors used tta with 5 crops + hflips at different scales: 224, 256, 384, 480, 640"
   ]
  },
  {
   "cell_type": "code",
   "execution_count": 7,
   "metadata": {},
   "outputs": [
    {
     "name": "stdout",
     "output_type": "stream",
     "text": [
      "evaluating at scale 224...\n"
     ]
    },
    {
     "name": "stderr",
     "output_type": "stream",
     "text": [
      "  0%|                                                                                                                            | 0/6250 [00:00<?, ?it/s]\n"
     ]
    },
    {
     "ename": "AttributeError",
     "evalue": "'ResNet' object has no attribute 'tta'",
     "output_type": "error",
     "traceback": [
      "\u001b[0;31m---------------------------------------------------------------------------\u001b[0m",
      "\u001b[0;31mAttributeError\u001b[0m                            Traceback (most recent call last)",
      "Cell \u001b[0;32mIn[7], line 20\u001b[0m\n\u001b[1;32m     18\u001b[0m x, y \u001b[38;5;241m=\u001b[39m batch\n\u001b[1;32m     19\u001b[0m x, y \u001b[38;5;241m=\u001b[39m x\u001b[38;5;241m.\u001b[39mcuda(), y\u001b[38;5;241m.\u001b[39mcuda()\n\u001b[0;32m---> 20\u001b[0m y_hat \u001b[38;5;241m=\u001b[39m \u001b[43mmodel\u001b[49m\u001b[38;5;241;43m.\u001b[39;49m\u001b[43mtta\u001b[49m(x, s)\n\u001b[1;32m     21\u001b[0m err \u001b[38;5;241m=\u001b[39m error(y_hat, y)\n\u001b[1;32m     22\u001b[0m metrics[s][\u001b[38;5;124m'\u001b[39m\u001b[38;5;124mt1err\u001b[39m\u001b[38;5;124m'\u001b[39m]\u001b[38;5;241m.\u001b[39mappend(err\u001b[38;5;241m.\u001b[39mitem())\n",
      "File \u001b[0;32m~/.local/lib/python3.10/site-packages/torch/nn/modules/module.py:1614\u001b[0m, in \u001b[0;36mModule.__getattr__\u001b[0;34m(self, name)\u001b[0m\n\u001b[1;32m   1612\u001b[0m     \u001b[38;5;28;01mif\u001b[39;00m name \u001b[38;5;129;01min\u001b[39;00m modules:\n\u001b[1;32m   1613\u001b[0m         \u001b[38;5;28;01mreturn\u001b[39;00m modules[name]\n\u001b[0;32m-> 1614\u001b[0m \u001b[38;5;28;01mraise\u001b[39;00m \u001b[38;5;167;01mAttributeError\u001b[39;00m(\u001b[38;5;124m\"\u001b[39m\u001b[38;5;124m'\u001b[39m\u001b[38;5;132;01m{}\u001b[39;00m\u001b[38;5;124m'\u001b[39m\u001b[38;5;124m object has no attribute \u001b[39m\u001b[38;5;124m'\u001b[39m\u001b[38;5;132;01m{}\u001b[39;00m\u001b[38;5;124m'\u001b[39m\u001b[38;5;124m\"\u001b[39m\u001b[38;5;241m.\u001b[39mformat(\n\u001b[1;32m   1615\u001b[0m     \u001b[38;5;28mtype\u001b[39m(\u001b[38;5;28mself\u001b[39m)\u001b[38;5;241m.\u001b[39m\u001b[38;5;18m__name__\u001b[39m, name))\n",
      "\u001b[0;31mAttributeError\u001b[0m: 'ResNet' object has no attribute 'tta'"
     ]
    }
   ],
   "source": [
    "from tqdm import tqdm\n",
    "\n",
    "# tta evaluation\n",
    "model.cuda()\n",
    "model.eval()\n",
    "metrics = {}\n",
    "limit_val_batches = 100 \n",
    "for s in [224, 256, 384, 480, 640]:\n",
    "\tprint(f'evaluating at scale {s}...')\n",
    "\ttrans = A.Compose([\n",
    "\t\tA.SmallestMaxSize(s),\n",
    "\t\tA.CenterCrop(s, s)\n",
    "\t])\n",
    "\tdataloader = DataLoader(ImageNet(path, 'val', trans), batch_size=8, shuffle=False, num_workers=10, pin_memory=True)\n",
    "\tmetrics[s] = {'t1err': [], 't5err': []}\n",
    "\twith torch.no_grad():\n",
    "\t\tfor ix, batch in enumerate(tqdm(dataloader)):\n",
    "\t\t\tx, y = batch\n",
    "\t\t\tx, y = x.cuda(), y.cuda()\n",
    "\t\t\ty_hat = model.tta(x, s)\n",
    "\t\t\terr = error(y_hat, y)\n",
    "\t\t\tmetrics[s]['t1err'].append(err.item())\n",
    "\t\t\ttop5err = top5_error(y_hat, y)\n",
    "\t\t\tmetrics[s]['t5err'].append(top5err.item())\n",
    "\t\t\tif ix > limit_val_batches:\n",
    "\t\t\t\tbreak"
   ]
  },
  {
   "cell_type": "code",
   "execution_count": null,
   "metadata": {},
   "outputs": [],
   "source": [
    "import numpy as np\n",
    "\n",
    "_metrics = pd.DataFrame({s: {n: np.mean(v) for n, v in m.items()} for s, m in metrics.items()})\n",
    "_metrics"
   ]
  },
  {
   "cell_type": "code",
   "execution_count": null,
   "metadata": {},
   "outputs": [],
   "source": [
    "_metrics.mean(1)"
   ]
  },
  {
   "cell_type": "markdown",
   "metadata": {},
   "source": [
    "The final submission that won ImageNet was an ensamble of 5 different ResNets."
   ]
  }
 ],
 "metadata": {
  "kernelspec": {
   "display_name": "Python 3 (ipykernel)",
   "language": "python",
   "name": "python3"
  },
  "language_info": {
   "codemirror_mode": {
    "name": "ipython",
    "version": 3
   },
   "file_extension": ".py",
   "mimetype": "text/x-python",
   "name": "python",
   "nbconvert_exporter": "python",
   "pygments_lexer": "ipython3",
   "version": "3.10.6"
  },
  "vscode": {
   "interpreter": {
    "hash": "916dbcbb3f70747c44a77c7bcd40155683ae19c65e1c03b4aa3499c5328201f1"
   }
  }
 },
 "nbformat": 4,
 "nbformat_minor": 2
}
